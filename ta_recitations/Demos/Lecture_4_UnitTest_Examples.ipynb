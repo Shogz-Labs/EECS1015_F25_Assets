{
 "cells": [
  {
   "cell_type": "markdown",
   "id": "e984b432",
   "metadata": {},
   "source": [
    "#### Environment Configuration"
   ]
  },
  {
   "cell_type": "code",
   "execution_count": null,
   "id": "49c36541",
   "metadata": {},
   "outputs": [],
   "source": [
    "import doctest\n",
    "import unittest\n",
    "from typing import List"
   ]
  },
  {
   "cell_type": "markdown",
   "id": "0a906c58",
   "metadata": {},
   "source": [
    "#### doctest"
   ]
  },
  {
   "cell_type": "code",
   "execution_count": null,
   "id": "8fda7d40",
   "metadata": {},
   "outputs": [],
   "source": [
    "def generate_symmetric_pyramid(height: int) -> str:\n",
    "    r\"\"\"\n",
    "    Given a pyramid height represented by a positive integer, return a symmetric pyramid string representation using asterisks.\n",
    "\n",
    "    Preconditions: \n",
    "        - height int \n",
    "        - height > 0\n",
    "    \n",
    "    Postcondition: \n",
    "        - Return str\n",
    "    >>> generate_symmetric_pyramid(1)\n",
    "    '* '\n",
    "    >>> generate_symmetric_pyramid(2)\n",
    "    ' *  \\n*** '\n",
    "    >>> generate_symmetric_pyramid(\"hello\")\n",
    "    Traceback (most recent call last):\n",
    "    ...\n",
    "    AssertionError: height must be a positive integer\n",
    "    >>> generate_symmetric_pyramid(0)\n",
    "    Traceback (most recent call last):\n",
    "    ...\n",
    "    AssertionError: height must be a positive integer\n",
    "    \"\"\"\n",
    "    assert isinstance(height, int) and height > 0, 'height must be a positive integer'\n",
    "    sol = '*'.center(height * 2)\n",
    "    tracker = '*'\n",
    "    for _ in range(height - 1):\n",
    "        tracker += '**'\n",
    "        sol += f\"\\n{tracker.center(height * 2)}\"\n",
    "    return sol"
   ]
  },
  {
   "cell_type": "code",
   "execution_count": null,
   "id": "e5eaaa12",
   "metadata": {},
   "outputs": [],
   "source": [
    "def generate_right_angle_triangle(height: int) -> str:\n",
    "    r\"\"\"\n",
    "    Return a string representation of a right-angle triangle with a positive height.\n",
    "\n",
    "    Preconditions:\n",
    "        - height int\n",
    "        - height > 1\n",
    "    Postcondition:\n",
    "        - Return str\n",
    "    \n",
    "    >>> generate_right_angle_triangle(5)\n",
    "    '*\\n**\\n***\\n****\\n*****'\n",
    "\n",
    "    >>> generate_right_angle_triangle(-1)\n",
    "    Traceback (most recent call last):\n",
    "    ...\n",
    "    AssertionError: height must be a positive integer\n",
    "    \"\"\"\n",
    "    assert isinstance(height, int) and height > 0, 'height must be a positive integer'\n",
    "    triangle = \"\\n\".join(\"*\" * (i + 1) for i in range(height))\n",
    "    return triangle"
   ]
  },
  {
   "cell_type": "code",
   "execution_count": null,
   "id": "f777caee",
   "metadata": {},
   "outputs": [],
   "source": [
    "if __name__ == '__main__':\n",
    "    doctest.testmod(verbose=True)"
   ]
  },
  {
   "cell_type": "markdown",
   "id": "01576a29",
   "metadata": {},
   "source": [
    "#### unittest"
   ]
  },
  {
   "cell_type": "code",
   "execution_count": null,
   "id": "7636599f",
   "metadata": {},
   "outputs": [],
   "source": [
    "def generate_sum_of_even_integers(numbers: List[int]) -> int:\n",
    "    r\"\"\"\n",
    "    Return the sum of even integers from a list, `numbers`.\n",
    "\n",
    "    Precondition:\n",
    "        - numbers must be a list \n",
    "        - all of the items in the list must be integers\n",
    "    \n",
    "    Postcondition:\n",
    "        - Return int\n",
    "    \"\"\"\n",
    "    assert isinstance(numbers, list), \"Input must be a list\"\n",
    "    assert all(isinstance(number, int) for number in numbers), \"Each element in the list must be an integer\"\n",
    "    return sum(number for number in numbers if number % 2 == 0)"
   ]
  },
  {
   "cell_type": "code",
   "execution_count": null,
   "id": "c4b7cd89",
   "metadata": {},
   "outputs": [],
   "source": [
    "class TestSum(unittest.TestCase):\n",
    "    def test_precondition_list(self):\n",
    "        self.assertRaises(AssertionError, generate_sum_of_even_integers, 1)\n",
    "    def test_precondition_not_int(self):\n",
    "        self.assertRaises(AssertionError, generate_sum_of_even_integers, [1,2,3,4,5.0])\n",
    "    def test_boundary_empty_list(self):\n",
    "        self.assertEqual(generate_sum_of_even_integers([]), 0)\n",
    "    def test_standard_behaviour(self):\n",
    "        self.assertEqual(generate_sum_of_even_integers([1,2,3,4,5,6,7,8,9,10]), 30)"
   ]
  },
  {
   "cell_type": "code",
   "execution_count": null,
   "id": "ddb0296a",
   "metadata": {},
   "outputs": [],
   "source": [
    "def convert_time_format(seconds: int) -> str:\n",
    "    r\"\"\"\n",
    "    Convert a number of seconds into a string formmated as hh:mm:ss\n",
    "\n",
    "    Precondition:\n",
    "        - seconds int\n",
    "    Postcondition:\n",
    "        - Return str in format hh:mm:ss\n",
    "    \"\"\"\n",
    "    assert isinstance(seconds, int), 'seconds must be specified as an integer value'\n",
    "    assert seconds >= 0, 'seconds must be an integer geq 0'\n",
    "    clock_minutes, clock_seconds = divmod(seconds, 60)\n",
    "    clock_hours, clock_minutes = divmod(clock_minutes, 60)\n",
    "    clock_hours %= 24\n",
    "    return f'{clock_hours:02}:{clock_minutes:02}:{clock_seconds:02}'"
   ]
  },
  {
   "cell_type": "code",
   "execution_count": null,
   "id": "96898ede",
   "metadata": {},
   "outputs": [],
   "source": [
    "class TestTime(unittest.TestCase):\n",
    "    def test_precondition_integer(self):\n",
    "        self.assertRaises(AssertionError, convert_time_format, 'henlo')\n",
    "    def test_boundary_case_zero(self):\n",
    "        self.assertRaises(AssertionError, convert_time_format, -25)\n",
    "    def test_boundary_case_minutes(self):\n",
    "        self.assertEqual(convert_time_format(61), '00:01:01')\n",
    "    def test_boundary_case_hours(self):\n",
    "        self.assertEqual(convert_time_format(90061), '01:01:01')\n",
    "    def test_boundary_case_hours_closer(self):\n",
    "        self.assertEqual(convert_time_format(82861), '23:01:01')"
   ]
  },
  {
   "cell_type": "code",
   "execution_count": null,
   "id": "7c7066c5",
   "metadata": {},
   "outputs": [],
   "source": [
    "if __name__ == '__main__':\n",
    "    unittest.main(argv=['first-arg-is-ignored'], exit=False, verbosity=2)"
   ]
  }
 ],
 "metadata": {
  "kernelspec": {
   "display_name": "Python 3",
   "language": "python",
   "name": "python3"
  },
  "language_info": {
   "codemirror_mode": {
    "name": "ipython",
    "version": 3
   },
   "file_extension": ".py",
   "mimetype": "text/x-python",
   "name": "python",
   "nbconvert_exporter": "python",
   "pygments_lexer": "ipython3",
   "version": "3.13.7"
  }
 },
 "nbformat": 4,
 "nbformat_minor": 5
}
