{
 "cells": [
  {
   "cell_type": "markdown",
   "id": "eddcf34d",
   "metadata": {},
   "source": [
    "#### Environment Configuration"
   ]
  },
  {
   "cell_type": "code",
   "execution_count": null,
   "id": "37a20df8",
   "metadata": {},
   "outputs": [],
   "source": [
    "import math as m\n",
    "from random import randint, normalvariate\n",
    "from sys import builtin_module_names, path\n",
    "import os\n",
    "path.insert(0, r'External Module')\n",
    "from external import write # type: ignore"
   ]
  },
  {
   "cell_type": "code",
   "execution_count": null,
   "id": "560f4a86",
   "metadata": {},
   "outputs": [],
   "source": [
    "print('Python supports the following built-in modules:')\n",
    "for module in builtin_module_names:\n",
    "    print('\\t', module)"
   ]
  },
  {
   "cell_type": "code",
   "execution_count": null,
   "id": "545aa1a6",
   "metadata": {},
   "outputs": [],
   "source": [
    "print(f'Python will look in the following directories for your modules:')\n",
    "for p in path:\n",
    "    print('\\t', p)"
   ]
  },
  {
   "cell_type": "code",
   "execution_count": null,
   "id": "09f900b2",
   "metadata": {},
   "outputs": [],
   "source": [
    "print('Lets explore and see what names (variables, modules, functions) the module math defines:')\n",
    "for entry in dir(m):\n",
    "    print('\\t', entry)"
   ]
  },
  {
   "cell_type": "markdown",
   "id": "17cf240f",
   "metadata": {},
   "source": [
    "#### Built-In Modules"
   ]
  },
  {
   "cell_type": "code",
   "execution_count": null,
   "id": "6b104116",
   "metadata": {},
   "outputs": [],
   "source": [
    "def gamble() -> None:\n",
    "    print('========== Welcome to the Dice Game ==========')\n",
    "    user_guess = input('Please enter a number between 1-6: ').strip()\n",
    "    assert len(user_guess) == 1, 'user_guess can only have a string length of 1'\n",
    "    assert user_guess.isdigit(), 'user_guess can only contain digits'\n",
    "    user_guess = int(user_guess)\n",
    "    assert 1 <= user_guess <= 6, 'user_guess can only be between 1 and 6 inclusive'\n",
    "    write('Game has begun.... rolling the 6-sided die....')\n",
    "    dice_face = randint(1, 6)\n",
    "    if user_guess == dice_face:\n",
    "        write('I cant stop winning!')\n",
    "    else:\n",
    "        write('Awwwww, dang it!!!! Better luck next time, right? ;)')\n",
    "        print('Too bad, the correct answer was:', dice_face)\n",
    "\n",
    "# Play the \"fun\" game!\n",
    "gamble()"
   ]
  },
  {
   "cell_type": "code",
   "execution_count": null,
   "id": "fe3c4c01",
   "metadata": {},
   "outputs": [],
   "source": [
    "def generate_normal_distribution(samples: int) -> None:\n",
    "    assert isinstance(samples, int), 'samples must be an int'\n",
    "    assert samples > 0, 'samples must be a positive int'\n",
    "    accumulator = 0\n",
    "    for _ in range(samples):\n",
    "        accumulator += normalvariate()\n",
    "    print(f'The average from {samples} points is: {round(accumulator / samples, 2)}')\n",
    "\n",
    "for i in range(50, 5000, 50):\n",
    "    generate_normal_distribution(i)"
   ]
  },
  {
   "cell_type": "markdown",
   "id": "551d0622",
   "metadata": {},
   "source": [
    "#### Custom Modules"
   ]
  },
  {
   "cell_type": "code",
   "execution_count": null,
   "id": "aee32bcf",
   "metadata": {},
   "outputs": [],
   "source": [
    "# Add your code here :)\n",
    "# Add some names to the External Module as well!"
   ]
  },
  {
   "cell_type": "markdown",
   "id": "065131fe",
   "metadata": {},
   "source": [
    "#### Third-Party Modules"
   ]
  },
  {
   "cell_type": "code",
   "execution_count": null,
   "id": "7ace9124",
   "metadata": {},
   "outputs": [],
   "source": [
    "# Add your code here :)\n",
    "# I recommend playing with pandas, matplotlib, plotly, etc., "
   ]
  }
 ],
 "metadata": {
  "kernelspec": {
   "display_name": "Python 3",
   "language": "python",
   "name": "python3"
  },
  "language_info": {
   "codemirror_mode": {
    "name": "ipython",
    "version": 3
   },
   "file_extension": ".py",
   "mimetype": "text/x-python",
   "name": "python",
   "nbconvert_exporter": "python",
   "pygments_lexer": "ipython3",
   "version": "3.13.7"
  }
 },
 "nbformat": 4,
 "nbformat_minor": 5
}
