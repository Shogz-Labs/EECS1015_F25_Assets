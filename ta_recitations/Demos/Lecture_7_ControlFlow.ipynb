{
 "cells": [
  {
   "cell_type": "markdown",
   "id": "697d4de4",
   "metadata": {},
   "source": [
    "#### Environment"
   ]
  },
  {
   "cell_type": "code",
   "execution_count": null,
   "id": "714f9e05",
   "metadata": {},
   "outputs": [],
   "source": [
    "from math import pi\n",
    "from typing import List\n",
    "import random"
   ]
  },
  {
   "cell_type": "markdown",
   "id": "06798908",
   "metadata": {},
   "source": [
    "#### Branches (If-Else)"
   ]
  },
  {
   "cell_type": "code",
   "execution_count": null,
   "id": "84d35a41",
   "metadata": {},
   "outputs": [],
   "source": [
    "# Simple If-Else Example: Area of a Circle\n",
    "# See Recitation Slides for the Control Flow Diagram\n",
    "\n",
    "def print_area_circle(radius: int | float) -> None:\n",
    "    assert isinstance(radius, (int, float)), 'incorrect data type'\n",
    "    if radius >= 0:\n",
    "        area = pi * (radius ** 2)\n",
    "        print(f'The area of the circle with radius {radius} is: {area:.2f}')\n",
    "    else:\n",
    "        print(f'You have provided a negative input: {radius}. This makes me very sad :(')\n",
    "    print('Program terminated....')\n",
    "print_area_circle(25)"
   ]
  },
  {
   "cell_type": "code",
   "execution_count": null,
   "id": "8e07788a",
   "metadata": {},
   "outputs": [],
   "source": [
    "# Simple If-Elif-Else Example: Grade (Number) to Letter Converter @ York\n",
    "# https://calendars.students.yorku.ca/2025-2026/grades-and-grading-schemes\n",
    "\n",
    "# Brain Twister: The number of branches can be greater reduced by using a Tuple and/or Dictionary\n",
    "# Try and think about it! :)  (You will also need a for loop!)\n",
    "\n",
    "def get_grade_information(percentage: int | float) -> None:\n",
    "    assert isinstance(percentage, (int, float)), 'incorrect data type'\n",
    "    assert 0 <= percentage <= 100, 'percentage must be non-negative and less than or equal to 100'\n",
    "    print(f'Percentage: {percentage:.2f}')\n",
    "    if percentage >= 90:\n",
    "        print('Grade: A+ (9.0)\\nDescription: Exceptional')\n",
    "    elif percentage >= 80:\n",
    "        print('Grade: A (8.0)\\nDescription: Excellent')\n",
    "    elif percentage >= 75:\n",
    "        print('Grade: B+ (7.0)\\nDescription: Very Good')\n",
    "    elif percentage >= 70:\n",
    "        print('Grade: B (6.0)\\nDescription: Good')\n",
    "    elif percentage >= 65:\n",
    "        print('Grade: C+ (5.0)\\nDescription: Competent')\n",
    "    elif percentage >= 60:\n",
    "        print('Grade: C (4.0)\\nDescription: Fairly Competent')\n",
    "    elif percentage >= 55:\n",
    "        print('Grade: D+ (3.0)\\nDescription: Passing')\n",
    "    elif percentage >= 50:\n",
    "        print('Grade: D (2.0)\\nDescription: Marginally Passing')\n",
    "    elif percentage >= 40:\n",
    "        print('Grade: E (1.0)\\nDescription: Marginally Failing')\n",
    "    else:\n",
    "        print('Grade: F (0.0)\\nDescription: Failing')\n",
    "    print('==========')\n",
    "\n",
    "for i in range(10):\n",
    "    grade = random.random() * 100\n",
    "    get_grade_information(grade)"
   ]
  },
  {
   "cell_type": "markdown",
   "id": "9a7cbdd7",
   "metadata": {},
   "source": [
    "#### Loops"
   ]
  },
  {
   "cell_type": "code",
   "execution_count": null,
   "id": "468e8a59",
   "metadata": {},
   "outputs": [],
   "source": [
    "# Simple For-Loop Example (Index & String)\n",
    "card = \"Dark Paladin\"\n",
    "\n",
    "for i in range(len(card)):\n",
    "    print(f\"{card[i]} [{i}]\")"
   ]
  },
  {
   "cell_type": "code",
   "execution_count": null,
   "id": "28218432",
   "metadata": {},
   "outputs": [],
   "source": [
    "card = \"Jinzo\"\n",
    "counter = 0\n",
    "while counter < len(card):\n",
    "    print(f\"{card[counter]} [{counter}]\")\n",
    "    counter += 1"
   ]
  },
  {
   "cell_type": "code",
   "execution_count": null,
   "id": "95c8f881",
   "metadata": {},
   "outputs": [],
   "source": [
    "def binary_search(list: List[int], item:int) -> int:\n",
    "    \"\"\"\n",
    "    A simple implementation of binary search which runs in O(log_2(n)).\n",
    "    \"\"\"\n",
    "    assert list == sorted(list), 'The input must be sorted.'\n",
    "    # Pointers to keep track of the list subset that we are interested in\n",
    "    # NOTE: For each iteration, we eliminate HALF of the remaining list to look through every time\n",
    "    low = 0\n",
    "    high = len(list) - 1\n",
    "    iteration = 0\n",
    "    while low <= high:\n",
    "        # Guess the middle element of the sorted list (the partition we are interested in.)\n",
    "        mid = (low + high) // 2\n",
    "        estimation = list[mid]\n",
    "        print(f'Iteration {iteration}: Current midpoint estimation is {estimation}')\n",
    "        if estimation == item:\n",
    "            print(f'Iteration {iteration}: Item found at index {mid}\\n')\n",
    "            return mid\n",
    "        elif estimation > item:\n",
    "            # Reduce the partition of the list we are interested in by half.\n",
    "            high = mid - 1\n",
    "            print(f'Iteration {iteration}: Estimation too big. Pivoting high pointer to index {high}')\n",
    "            print(f'Current List: {list[low:high + 1]}')\n",
    "        elif estimation < item:\n",
    "            # Reduce the partition of the list we are interested in by half.\n",
    "            low = mid + 1\n",
    "            print(f'Iteration {iteration}: Estimation too small. Pivoting low pointer to index {low}')\n",
    "            print(f'Current List: {list[low:high + 1]}')\n",
    "        iteration += 1\n",
    "        print(f'Current Pointers @ Low: {low}, High: {high}\\n')\n",
    "    print(f'Item not found (low = {low}, high = {high}). Returning -1.\\n')\n",
    "    return -1\n",
    "\n",
    "# This is a case where the element is in the list\n",
    "print('========== Trace of a Good Input ==========')\n",
    "sample_input = sorted([random.randint(1, 100) for _ in range(10)])\n",
    "item = random.choice(sample_input)\n",
    "print(f'Sample Input: {sample_input}')\n",
    "print(f'Searching for: {item}\\n')\n",
    "sol = binary_search(sample_input, item)\n",
    "\n",
    "# This is a case where the element is not in the list\n",
    "print('========== Trace of a Bad Input ==========')\n",
    "bad_input = [i*2 for i in range(10)]\n",
    "item = random.choice(bad_input) + 1\n",
    "print(f'(Bad) Sample Input: {bad_input}')\n",
    "print(f'Searching for: {item}\\n')\n",
    "sol = binary_search(bad_input, item)"
   ]
  },
  {
   "cell_type": "code",
   "execution_count": null,
   "id": "711b7538",
   "metadata": {},
   "outputs": [],
   "source": [
    "def naive_binary_search(list: List[int], item:int) -> int:\n",
    "    \"\"\"\n",
    "    A simple implementation of a search algorithm which runs in O(n)).\n",
    "    Technically, it's not binary (but we will not get lost in the pedantics atm....)\n",
    "    \"\"\"\n",
    "    assert list == sorted(list), 'The input must be sorted.'\n",
    "    for index, element in enumerate(list):\n",
    "        if element == item:\n",
    "            print(f'Target element {item} found at index {index}')\n",
    "            return index\n",
    "    print(f'Target element {item} not found. Returning -1 to the caller.')\n",
    "    return -1\n",
    "\n",
    "# This is a case where the element is in the list\n",
    "print('========== Trace of a Good Input ==========')\n",
    "sample_input = sorted([random.randint(1, 100) for _ in range(10)])\n",
    "item = random.choice(sample_input)\n",
    "print(f'Sample Input: {sample_input}')\n",
    "print(f'Searching for: {item}')\n",
    "sol = naive_binary_search(sample_input, item)\n",
    "\n",
    "# This is a case where the element is not in the list\n",
    "print('========== Trace of a Bad Input ==========')\n",
    "bad_input = [i*2 for i in range(10)]\n",
    "item = random.choice(bad_input) + 1\n",
    "print(f'(Bad) Sample Input: {bad_input}')\n",
    "print(f'Searching for: {item}')\n",
    "sol = naive_binary_search(bad_input, item)\n",
    "    "
   ]
  }
 ],
 "metadata": {
  "kernelspec": {
   "display_name": "Python 3",
   "language": "python",
   "name": "python3"
  },
  "language_info": {
   "codemirror_mode": {
    "name": "ipython",
    "version": 3
   },
   "file_extension": ".py",
   "mimetype": "text/x-python",
   "name": "python",
   "nbconvert_exporter": "python",
   "pygments_lexer": "ipython3",
   "version": "3.13.7"
  }
 },
 "nbformat": 4,
 "nbformat_minor": 5
}
