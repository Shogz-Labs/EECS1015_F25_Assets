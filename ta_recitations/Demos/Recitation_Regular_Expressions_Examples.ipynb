{
 "cells": [
  {
   "cell_type": "markdown",
   "id": "59f7570f",
   "metadata": {},
   "source": [
    "#### References\n",
    "- [Regular Expressions (RegEx) in 100 Seconds](https://www.youtube.com/watch?v=sXQxhojSdZM)\n",
    "- [Python Tutorial: re Module - How to Write and Match Regular Expressions (Regex)](https://www.youtube.com/watch?v=K8L6KVGG-7o)\n",
    "- [Regular Expression Cheatsheet (Anaconda)](https://know.anaconda.com/rs/387-XNW-688/images/RegEx%20Cheatsheet.pdf?version=0)\n",
    "- [Python Regular Expression Documentation](https://docs.python.org/3/library/re.html)\n"
   ]
  },
  {
   "cell_type": "markdown",
   "id": "7e6db745",
   "metadata": {},
   "source": [
    "#### Meta-Characters (Basic)\n",
    "\n",
    "| Character | Description |\n",
    "| ----- | ----- |\n",
    "| . | Serves as a **wildcard character**; it matches any character except a newline.|\n",
    "| ^... | Matches the start of the string.|\n",
    "| ...$ | Matches the end of the string.|\n",
    "| ...* | A **quantifier** used to match zero or more repetitions of the preceding RE.|\n",
    "| ...+| A **quantifier** used to match one or more repetitions of the preceding RE.|\n",
    "| ...? | The **logic quantifier** which is used to capture any RE that occurs exactly zero or one time.|\n",
    "| \\ | Generally used to escape special characters within an expression. |\n",
    "\n",
    "#### Meta-Characters (Ranges)\n",
    "\n",
    "| Character | Description | Example |\n",
    "| ----- | ----- | ----- |\n",
    "| [...-...] | Used to indicate a set of characters which can be listed individually, or as ranges, separated by a dash. | [0-9], [A-Z]|\n",
    "| [^...] | Used to indicate the complement of the set of characters. | [^0-9], [^A-Z]|\n",
    "| {...,...} | Used to denote a RE which should occur a certain specified number of times. | a{3,5} |\n",
    "| A\\|B | Used to define alternative REs, like in the logic (inclusive) OR operator. That is, the resulting RE will match either A or B.|falls\\|stays|\n",
    "| (...) | Used to create groups in regular expressions. These are useful for dealing with complex patterns, breaking them into multiple (and smaller) sub-patterns, which are easier to understand. | N/A |\n",
    "\n",
    "#### Special Sequence Operators\n",
    "| Character | Description |\n",
    "| ----- | ----- |\n",
    "| \\d | A single digit from 0-9; logically equivalent with writing [0-9].|\n",
    "| \\D | Non-digit character: any character that is not a digit; logically equivalent with [^0-9].|\n",
    "| \\s | Whitespace characters (space, tab, new line, carriage). |\n",
    "| \\S| Matches any non-whitespace character. |\n",
    "| \\w | Word character (any ASCII letter, digit, or underscore); logically equivalent to [A-Za-z0-9_]|\n",
    "| \\W | Any character that is not an alphanumeric character or underscore; logically equivalent to [^A-Za-z0-9_]|"
   ]
  },
  {
   "cell_type": "markdown",
   "id": "744d71b6",
   "metadata": {},
   "source": [
    "#### A Gentle Introduction to Regular Expressions (Examples)"
   ]
  },
  {
   "cell_type": "code",
   "execution_count": null,
   "id": "e61fb500",
   "metadata": {},
   "outputs": [],
   "source": [
    "# We need to import the module to use it\n",
    "import re\n",
    "# Uncomment the line below if you want to see the documentation!\n",
    "# help(re)"
   ]
  },
  {
   "cell_type": "code",
   "execution_count": null,
   "id": "c9baac91",
   "metadata": {},
   "outputs": [],
   "source": [
    "names = [\n",
    "    'Curious George',\n",
    "    'Scott Pilgrim',\n",
    "    'Michael Scott',\n",
    "    'Jim Halpert',\n",
    "    'Dwight Kurt Schrute',\n",
    "    'Philip J. Fry',\n",
    "    'Bender Bending Rodriguez',\n",
    "    'Ron Swanson',\n",
    "    'Cicada 3301',\n",
    "    'Dwayne Rock Johnson',\n",
    "    'Hubert J. Farnsworth',\n",
    "    'Richard Philips Feynman',\n",
    "    'Ada Lovelace',\n",
    "    ''\n",
    "]\n",
    "\n",
    "# Find all names that consist of first middle last\n",
    "regex = re.compile(r\"^\\w+\\s+\\w+\\.?\\s+\\w+$\")\n",
    "# Iterate through each of the strings in the names list\n",
    "for name in names:\n",
    "    # Check if the name satisfies our regex\n",
    "    result = regex.search(name)\n",
    "    # If the string matches the regex conditions, print it!\n",
    "    if result:\n",
    "        print(name)\n",
    "    # We don't have an else statement here :o"
   ]
  },
  {
   "cell_type": "code",
   "execution_count": null,
   "id": "faa8ff85",
   "metadata": {},
   "outputs": [],
   "source": [
    "# Goal: Given an input, keep only the following symbols: {,},[,],(,)\n",
    "\n",
    "possible_inputs = [\n",
    "    '{abra cadabra}',\n",
    "    '{a(b[c]d)e}',\n",
    "    '{1,2,3,4,5,6,7,8}',\n",
    "    '{)',\n",
    "    '{1{2{3(4444)5}6}7}8',\n",
    "    '{}',\n",
    "    '[1(2)3{4}]',\n",
    "    'WAOW!'\n",
    "]\n",
    "\n",
    "regex = re.compile(r\"[^\\[\\](){}]\")\n",
    "for entry in possible_inputs:\n",
    "    if regex.search(entry):\n",
    "        print(f'String \"{entry}\" has unallowed characters!')\n",
    "        print('\\t', regex.findall(entry))\n",
    "        print(f'\\tClean Version: {regex.sub('', entry)}\\n')\n",
    "    else:\n",
    "        print(f'String \"{entry}\" is a clean string! :)\\n') \n",
    "        \n"
   ]
  }
 ],
 "metadata": {
  "kernelspec": {
   "display_name": "Python 3",
   "language": "python",
   "name": "python3"
  },
  "language_info": {
   "codemirror_mode": {
    "name": "ipython",
    "version": 3
   },
   "file_extension": ".py",
   "mimetype": "text/x-python",
   "name": "python",
   "nbconvert_exporter": "python",
   "pygments_lexer": "ipython3",
   "version": "3.13.7"
  }
 },
 "nbformat": 4,
 "nbformat_minor": 5
}
